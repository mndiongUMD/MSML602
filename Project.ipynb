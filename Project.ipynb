{
 "cells": [
  {
   "cell_type": "markdown",
   "id": "386c985f",
   "metadata": {},
   "source": [
    "In this project, we are predicting trends in technology adoption and interest based on social media (Twitter) data. Specifically, the model aims to forecast the following:\n",
    "\n",
    "1. **Volume of Discussions**: Predicting the number of tweets or social media posts related to specific technologies, gadgets, or software within a given time frame in the future (e.g., daily, weekly). This serves as an indicator of public interest and awareness levels.\n",
    "\n",
    "2. **Sentiment Trends**: Forecasting the overall sentiment (positive, negative, neutral) associated with these technologies in the social media discourse. This could involve predicting the average sentiment score or the proportion of tweets falling into each sentiment category for upcoming days.\n",
    "\n",
    "3. **Combination of Volume and Sentiment**: A more comprehensive approach might involve predicting both the volume of discussion and the sentiment concurrently. This dual prediction can provide a more nuanced understanding of how public interest and perception might evolve over time.\n",
    "\n",
    "### Example Predictions\n",
    "- **Before a Product Launch**: If there's an upcoming release of a new gadget, the model might predict an increase in the volume of discussion and potentially the sentiment trend leading up to and following the launch.\n",
    "- **Emerging Technology Trends**: For emerging tech like augmented reality, blockchain, or new software platforms, the model could forecast how discussions (both in volume and sentiment) about these technologies will trend in the short-term future.\n",
    "\n",
    "### Purpose of These Predictions\n",
    "- **Market Insight**: These predictions can provide valuable insights for businesses, marketers, and technologists about consumer interest and sentiment trends, aiding in strategic planning and decision-making.\n",
    "- **Product Strategy**: For tech companies, understanding how public interest and sentiment are likely to shift can inform product development, marketing strategies, and customer engagement plans.\n",
    "- **Investment Decisions**: Investors in technology sectors might use these predictions to gauge potential market reactions to new technologies or products.\n",
    "\n",
    "The predictions, therefore, are not just about the raw data but also about interpreting the data to extract meaningful trends and insights that can inform various strategic decisions in the technology domain."
   ]
  },
  {
   "cell_type": "code",
   "execution_count": 1,
   "id": "c50608bb",
   "metadata": {},
   "outputs": [],
   "source": [
    "# Essential imports\n",
    "import pandas as pd\n",
    "import numpy as np\n",
    "import tweepy\n",
    "import nltk\n",
    "import sqlite3\n",
    "import re\n",
    "import nltk\n",
    "from nltk.corpus import stopwords\n",
    "from nltk.tokenize import word_tokenize\n",
    "from nltk.stem import WordNetLemmatizer\n",
    "from textblob import TextBlob"
   ]
  },
  {
   "cell_type": "markdown",
   "id": "f79d15e9",
   "metadata": {},
   "source": [
    "## 1. Data Collection\n",
    "Sources: Gather data from social media. We will be using Twitter API to search and get tweets with relevant keywords\n",
    "\n",
    "Keywords: Identify relevant keywords for each technology (e.g., \"artificial intelligence\", \"augmented reality\", \"blockchain\")."
   ]
  },
  {
   "cell_type": "code",
   "execution_count": 2,
   "id": "d7f7893d",
   "metadata": {},
   "outputs": [],
   "source": [
    "# Twitter API keys\n",
    "\n",
    "# Consumer Keys\n",
    "# MSML apis\n",
    "api_key = 'fQyQfxNjgLk8NDoVt339h8K0g'\n",
    "api_secret_key = '5wHUc4mrkVn1R9pR7tVaNXkKuB6Le1qIpSqKA3nb9H70rEVqiz'\n",
    "\n",
    "# Authentication Tokens\n",
    "bearer_token = 'AAAAAAAAAAAAAAAAAAAAAJu0rQEAAAAAisjoiU156fEdDphPqie4eiNi0L0%3DByO7mVMXobvQB1IA1XCLUWWTLbFtjSu9TcBh06OpFJSRldwkHa'\n",
    "\n",
    "access_token = '2931998159-ngeYrsqwmVvs1jYjpZcCFBzO2xm0j2wsqokBLK6'\n",
    "access_token_secret = 'CGo43zg5cX2KDdyACKDVIUtrULMV1SCBjPVNogCW1UKKs'\n",
    "\n",
    "# Authenticate\n",
    "auth = tweepy.OAuthHandler(api_key, api_secret_key)\n",
    "auth.set_access_token(access_token, access_token_secret)\n",
    "api = tweepy.API(auth, wait_on_rate_limit=True)\n",
    "\n",
    "client = tweepy.Client(bearer_token=bearer_token)"
   ]
  },
  {
   "cell_type": "code",
   "execution_count": 3,
   "id": "6fdcd92a",
   "metadata": {},
   "outputs": [],
   "source": [
    "# Getting the tweets from twitter\n",
    "query = 'artificial intelligence'\n",
    "tweets = client.search_recent_tweets(query=query, max_results=10)"
   ]
  },
  {
   "cell_type": "code",
   "execution_count": 4,
   "id": "485ac5d3",
   "metadata": {},
   "outputs": [
    {
     "data": {
      "text/html": [
       "<div>\n",
       "<style scoped>\n",
       "    .dataframe tbody tr th:only-of-type {\n",
       "        vertical-align: middle;\n",
       "    }\n",
       "\n",
       "    .dataframe tbody tr th {\n",
       "        vertical-align: top;\n",
       "    }\n",
       "\n",
       "    .dataframe thead th {\n",
       "        text-align: right;\n",
       "    }\n",
       "</style>\n",
       "<table border=\"1\" class=\"dataframe\">\n",
       "  <thead>\n",
       "    <tr style=\"text-align: right;\">\n",
       "      <th></th>\n",
       "      <th>Tweet</th>\n",
       "      <th>Context Annotations</th>\n",
       "    </tr>\n",
       "  </thead>\n",
       "  <tbody>\n",
       "    <tr>\n",
       "      <th>0</th>\n",
       "      <td>RT @sercanmatrixai: @traded https://t.co/L43H7...</td>\n",
       "      <td>None</td>\n",
       "    </tr>\n",
       "    <tr>\n",
       "      <th>1</th>\n",
       "      <td>RT @rowancheung: @ibab_ml The EU has become th...</td>\n",
       "      <td>None</td>\n",
       "    </tr>\n",
       "    <tr>\n",
       "      <th>2</th>\n",
       "      <td>RT @Iam_StephenMusk: JUST IN: Security guard r...</td>\n",
       "      <td>None</td>\n",
       "    </tr>\n",
       "    <tr>\n",
       "      <th>3</th>\n",
       "      <td>@soon_verse artificial intelligence is a hot t...</td>\n",
       "      <td>None</td>\n",
       "    </tr>\n",
       "    <tr>\n",
       "      <th>4</th>\n",
       "      <td>RT @sercanmatrixai: @CryptoYusaku https://t.co...</td>\n",
       "      <td>None</td>\n",
       "    </tr>\n",
       "  </tbody>\n",
       "</table>\n",
       "</div>"
      ],
      "text/plain": [
       "                                               Tweet Context Annotations\n",
       "0  RT @sercanmatrixai: @traded https://t.co/L43H7...                None\n",
       "1  RT @rowancheung: @ibab_ml The EU has become th...                None\n",
       "2  RT @Iam_StephenMusk: JUST IN: Security guard r...                None\n",
       "3  @soon_verse artificial intelligence is a hot t...                None\n",
       "4  RT @sercanmatrixai: @CryptoYusaku https://t.co...                None"
      ]
     },
     "execution_count": 4,
     "metadata": {},
     "output_type": "execute_result"
    }
   ],
   "source": [
    "# Initialize lists for DataFrame\n",
    "tweet_texts = []\n",
    "context_annotations = []\n",
    "\n",
    "# Extract data from tweets\n",
    "for tweet in tweets.data:\n",
    "    # Add tweet text\n",
    "    tweet_texts.append(tweet.text)\n",
    "\n",
    "    # Check and add context annotations\n",
    "    if 'context_annotations' in tweet and len(tweet.context_annotations) > 0:\n",
    "        context_annotations.append(str(tweet.context_annotations))\n",
    "    else:\n",
    "        context_annotations.append(None)\n",
    "\n",
    "# Create DataFrame\n",
    "tweets_df = pd.DataFrame({\n",
    "    'Tweet': tweet_texts,\n",
    "    'Context Annotations': context_annotations\n",
    "})\n",
    "\n",
    "tweets_df.head()"
   ]
  },
  {
   "cell_type": "code",
   "execution_count": 5,
   "id": "115b431d",
   "metadata": {},
   "outputs": [
    {
     "name": "stdout",
     "output_type": "stream",
     "text": [
      "                                               Tweet Context Annotations\n",
      "0  RT @sercanmatrixai: @traded https://t.co/L43H7...                None\n",
      "1  RT @rowancheung: @ibab_ml The EU has become th...                None\n",
      "2  RT @Iam_StephenMusk: JUST IN: Security guard r...                None\n",
      "3  @soon_verse artificial intelligence is a hot t...                None\n",
      "4  RT @sercanmatrixai: @CryptoYusaku https://t.co...                None\n",
      "5  RT @itz_shivvvuuu: artificial intelligence ?\\n...                None\n",
      "6  RT @penpengin2023: 今年6月の記事。長文だけれど、読んでおく価値あり。\\n...                None\n",
      "7       RT @JenningsJa49121: https://t.co/hIBMHGTg00                None\n",
      "8  Discover the captivating world of Obama DeepFa...                None\n",
      "9  RT @UpscforAll: What is Digital India BHASHINI...                None\n"
     ]
    }
   ],
   "source": [
    "def add_tweets_to_database(tweets_df):\n",
    "    # Create a SQLite database connection\n",
    "    conn = sqlite3.connect('tweets_database.db')\n",
    "\n",
    "    # Write the DataFrame to a SQLite table\n",
    "    tweets_df.to_sql('tweets', conn, if_exists='replace', index=False)\n",
    "\n",
    "    # Optionally, read the table back from the database to verify\n",
    "    tweets_df_from_sql = pd.read_sql('SELECT * FROM tweets', conn)\n",
    "\n",
    "    # Display the DataFrame read from the database\n",
    "    print(tweets_df_from_sql)\n",
    "\n",
    "    # Close the database connection\n",
    "    conn.close()\n",
    "    \n",
    "add_tweets_to_database(tweets_df)"
   ]
  },
  {
   "cell_type": "code",
   "execution_count": 6,
   "id": "00debcb8",
   "metadata": {},
   "outputs": [
    {
     "name": "stdout",
     "output_type": "stream",
     "text": [
      "[('RT @sercanmatrixai: @traded https://t.co/L43H72ltdJ\\n\\nDefinitely $MAN\\n\\nIt is the only #AI project that blends artificial intelligence, block…',), (\"RT @rowancheung: @ibab_ml The EU has become the first continent to set regulations on AI.\\n\\nThe new 'Artificial Intelligence Act' aims to en…\",), ('RT @Iam_StephenMusk: JUST IN: Security guard robots represent a cutting-edge advancement in the field of security and safety. These highly…',), ('@soon_verse artificial intelligence is a hot technology as it is been combined with blockchain to build interesting products . what does your project feel about artificial intelligence\\n\\n0x732e94603E8d45abf73019ee0e3862D67dE3CA2F',), ('RT @sercanmatrixai: @CryptoYusaku https://t.co/L43H72ltdJ\\n\\nHi  Yusaku,\\n\\n@CryptoYusaku \\n\\n$MAN is the only AI project that blends artificial…',), ('RT @itz_shivvvuuu: artificial intelligence ?\\n\\n~ meanwhile floridians https://t.co/Sc4jBlLB1B',), ('RT @penpengin2023: 今年6月の記事。長文だけれど、読んでおく価値あり。\\n\\n『どんなに素晴らしいAIシステムであっても、その背後には人がいる。膨大な数の人々が、AIを訓練するためにデータにラベルを付け、データが混乱したときにはそれを明確にするのだ。』(1/4)…',), ('RT @JenningsJa49121: https://t.co/hIBMHGTg00',), ('Discover the captivating world of Obama DeepFake videos created with artificial intelligence (AI).\\n\\nUncover how these digital Doppel gang’s function. https://t.co/cUJ5EQhFY1',), ('RT @UpscforAll: What is Digital India BHASHINI?\\n\\nAbout:\\nDigital India BHASHINI is India’s Artificial Intelligence (AI) led language transla…',)]\n"
     ]
    },
    {
     "data": {
      "text/plain": [
       "[('RT @sercanmatrixai: @traded https://t.co/L43H72ltdJ\\n\\nDefinitely $MAN\\n\\nIt is the only #AI project that blends artificial intelligence, block…',),\n",
       " (\"RT @rowancheung: @ibab_ml The EU has become the first continent to set regulations on AI.\\n\\nThe new 'Artificial Intelligence Act' aims to en…\",),\n",
       " ('RT @Iam_StephenMusk: JUST IN: Security guard robots represent a cutting-edge advancement in the field of security and safety. These highly…',),\n",
       " ('@soon_verse artificial intelligence is a hot technology as it is been combined with blockchain to build interesting products . what does your project feel about artificial intelligence\\n\\n0x732e94603E8d45abf73019ee0e3862D67dE3CA2F',),\n",
       " ('RT @sercanmatrixai: @CryptoYusaku https://t.co/L43H72ltdJ\\n\\nHi  Yusaku,\\n\\n@CryptoYusaku \\n\\n$MAN is the only AI project that blends artificial…',),\n",
       " ('RT @itz_shivvvuuu: artificial intelligence ?\\n\\n~ meanwhile floridians https://t.co/Sc4jBlLB1B',),\n",
       " ('RT @penpengin2023: 今年6月の記事。長文だけれど、読んでおく価値あり。\\n\\n『どんなに素晴らしいAIシステムであっても、その背後には人がいる。膨大な数の人々が、AIを訓練するためにデータにラベルを付け、データが混乱したときにはそれを明確にするのだ。』(1/4)…',),\n",
       " ('RT @JenningsJa49121: https://t.co/hIBMHGTg00',),\n",
       " ('Discover the captivating world of Obama DeepFake videos created with artificial intelligence (AI).\\n\\nUncover how these digital Doppel gang’s function. https://t.co/cUJ5EQhFY1',),\n",
       " ('RT @UpscforAll: What is Digital India BHASHINI?\\n\\nAbout:\\nDigital India BHASHINI is India’s Artificial Intelligence (AI) led language transla…',)]"
      ]
     },
     "execution_count": 6,
     "metadata": {},
     "output_type": "execute_result"
    }
   ],
   "source": [
    "# For fetching the data in the database later\n",
    "def get_tweets_by_query():\n",
    "    conn = sqlite3.connect('tweets_database.db')\n",
    "    cur = conn.cursor()\n",
    "\n",
    "    # Select tweets that match the query\n",
    "    cur.execute(\"SELECT Tweet FROM tweets\")\n",
    "    all_tweets = cur.fetchall()\n",
    "    \n",
    "    print(all_tweets)\n",
    "\n",
    "    conn.close()\n",
    "    return all_tweets\n",
    "\n",
    "get_tweets_by_query()"
   ]
  },
  {
   "cell_type": "markdown",
   "id": "d43d96df",
   "metadata": {},
   "source": [
    "## 2. Data Preprocessing\n",
    "Cleaning: Remove irrelevant content, special characters, and URLs.\n",
    "Normalization: Convert text to a standard format (e.g., lowercase, stemming).\n"
   ]
  },
  {
   "cell_type": "code",
   "execution_count": 7,
   "id": "201eceaa",
   "metadata": {},
   "outputs": [
    {
     "data": {
      "text/html": [
       "<div>\n",
       "<style scoped>\n",
       "    .dataframe tbody tr th:only-of-type {\n",
       "        vertical-align: middle;\n",
       "    }\n",
       "\n",
       "    .dataframe tbody tr th {\n",
       "        vertical-align: top;\n",
       "    }\n",
       "\n",
       "    .dataframe thead th {\n",
       "        text-align: right;\n",
       "    }\n",
       "</style>\n",
       "<table border=\"1\" class=\"dataframe\">\n",
       "  <thead>\n",
       "    <tr style=\"text-align: right;\">\n",
       "      <th></th>\n",
       "      <th>Tweet</th>\n",
       "      <th>Context Annotations</th>\n",
       "      <th>Cleaned_Tweet</th>\n",
       "    </tr>\n",
       "  </thead>\n",
       "  <tbody>\n",
       "    <tr>\n",
       "      <th>0</th>\n",
       "      <td>RT @sercanmatrixai: @traded https://t.co/L43H7...</td>\n",
       "      <td>None</td>\n",
       "      <td>rt definitely man ai project blend artificial ...</td>\n",
       "    </tr>\n",
       "    <tr>\n",
       "      <th>1</th>\n",
       "      <td>RT @rowancheung: @ibab_ml The EU has become th...</td>\n",
       "      <td>None</td>\n",
       "      <td>rt eu become first continent set regulation ai...</td>\n",
       "    </tr>\n",
       "    <tr>\n",
       "      <th>2</th>\n",
       "      <td>RT @Iam_StephenMusk: JUST IN: Security guard r...</td>\n",
       "      <td>None</td>\n",
       "      <td>rt security guard robot represent cuttingedge ...</td>\n",
       "    </tr>\n",
       "    <tr>\n",
       "      <th>3</th>\n",
       "      <td>@soon_verse artificial intelligence is a hot t...</td>\n",
       "      <td>None</td>\n",
       "      <td>artificial intelligence hot technology combine...</td>\n",
       "    </tr>\n",
       "    <tr>\n",
       "      <th>4</th>\n",
       "      <td>RT @sercanmatrixai: @CryptoYusaku https://t.co...</td>\n",
       "      <td>None</td>\n",
       "      <td>rt hi yusaku man ai project blend artificial</td>\n",
       "    </tr>\n",
       "  </tbody>\n",
       "</table>\n",
       "</div>"
      ],
      "text/plain": [
       "                                               Tweet Context Annotations  \\\n",
       "0  RT @sercanmatrixai: @traded https://t.co/L43H7...                None   \n",
       "1  RT @rowancheung: @ibab_ml The EU has become th...                None   \n",
       "2  RT @Iam_StephenMusk: JUST IN: Security guard r...                None   \n",
       "3  @soon_verse artificial intelligence is a hot t...                None   \n",
       "4  RT @sercanmatrixai: @CryptoYusaku https://t.co...                None   \n",
       "\n",
       "                                       Cleaned_Tweet  \n",
       "0  rt definitely man ai project blend artificial ...  \n",
       "1  rt eu become first continent set regulation ai...  \n",
       "2  rt security guard robot represent cuttingedge ...  \n",
       "3  artificial intelligence hot technology combine...  \n",
       "4       rt hi yusaku man ai project blend artificial  "
      ]
     },
     "execution_count": 7,
     "metadata": {},
     "output_type": "execute_result"
    }
   ],
   "source": [
    "# Define the tweet cleaning function\n",
    "def clean_tweet(tweet):\n",
    "    # Convert to lowercase\n",
    "    tweet = tweet.lower()\n",
    "    \n",
    "    # Remove URLs\n",
    "    tweet = re.sub(r'http\\S+|www\\S+|https\\S+', '', tweet, flags=re.MULTILINE)\n",
    "    \n",
    "    # Remove @usernames and #hashtags\n",
    "    tweet = re.sub(r'\\@\\w+|\\#','', tweet)\n",
    "    \n",
    "    # Remove punctuation and special characters\n",
    "    tweet = re.sub(r'[^\\w\\s]', '', tweet)\n",
    "    \n",
    "    # Tokenize the tweet\n",
    "    tweet_tokens = word_tokenize(tweet)\n",
    "    \n",
    "    # Remove stopwords\n",
    "    filtered_words = [word for word in tweet_tokens if word not in stopwords.words('english')]\n",
    "    \n",
    "    # Lemmatization\n",
    "    lemmatizer = WordNetLemmatizer()\n",
    "    lemmatized_words = [lemmatizer.lemmatize(word) for word in filtered_words]\n",
    "    \n",
    "    return \" \".join(lemmatized_words)\n",
    "\n",
    "# Assuming tweets_df is your DataFrame and 'Tweet' is the column with tweet texts\n",
    "# Apply the cleaning function to each tweet\n",
    "tweets_df['Cleaned_Tweet'] = tweets_df['Tweet'].apply(clean_tweet)\n",
    "\n",
    "# Display the first few rows of the DataFrame\n",
    "tweets_df.head()"
   ]
  },
  {
   "cell_type": "code",
   "execution_count": 8,
   "id": "c8c924c7",
   "metadata": {},
   "outputs": [
    {
     "data": {
      "text/html": [
       "<div>\n",
       "<style scoped>\n",
       "    .dataframe tbody tr th:only-of-type {\n",
       "        vertical-align: middle;\n",
       "    }\n",
       "\n",
       "    .dataframe tbody tr th {\n",
       "        vertical-align: top;\n",
       "    }\n",
       "\n",
       "    .dataframe thead th {\n",
       "        text-align: right;\n",
       "    }\n",
       "</style>\n",
       "<table border=\"1\" class=\"dataframe\">\n",
       "  <thead>\n",
       "    <tr style=\"text-align: right;\">\n",
       "      <th></th>\n",
       "      <th>Cleaned_Tweet</th>\n",
       "    </tr>\n",
       "  </thead>\n",
       "  <tbody>\n",
       "    <tr>\n",
       "      <th>0</th>\n",
       "      <td>rt definitely man ai project blend artificial ...</td>\n",
       "    </tr>\n",
       "    <tr>\n",
       "      <th>1</th>\n",
       "      <td>rt eu become first continent set regulation ai...</td>\n",
       "    </tr>\n",
       "    <tr>\n",
       "      <th>2</th>\n",
       "      <td>rt security guard robot represent cuttingedge ...</td>\n",
       "    </tr>\n",
       "    <tr>\n",
       "      <th>3</th>\n",
       "      <td>artificial intelligence hot technology combine...</td>\n",
       "    </tr>\n",
       "    <tr>\n",
       "      <th>4</th>\n",
       "      <td>rt hi yusaku man ai project blend artificial</td>\n",
       "    </tr>\n",
       "  </tbody>\n",
       "</table>\n",
       "</div>"
      ],
      "text/plain": [
       "                                       Cleaned_Tweet\n",
       "0  rt definitely man ai project blend artificial ...\n",
       "1  rt eu become first continent set regulation ai...\n",
       "2  rt security guard robot represent cuttingedge ...\n",
       "3  artificial intelligence hot technology combine...\n",
       "4       rt hi yusaku man ai project blend artificial"
      ]
     },
     "execution_count": 8,
     "metadata": {},
     "output_type": "execute_result"
    }
   ],
   "source": [
    "# Drop the 'ContextAnnotations' column\n",
    "tweets_df = tweets_df.drop('Context Annotations', axis=1)\n",
    "tweets_df = tweets_df.drop('Tweet', axis=1)\n",
    "\n",
    "# Display the DataFrame to confirm the column is dropped\n",
    "tweets_df.head()"
   ]
  },
  {
   "cell_type": "code",
   "execution_count": 9,
   "id": "0517e0d4",
   "metadata": {},
   "outputs": [
    {
     "data": {
      "text/html": [
       "<div>\n",
       "<style scoped>\n",
       "    .dataframe tbody tr th:only-of-type {\n",
       "        vertical-align: middle;\n",
       "    }\n",
       "\n",
       "    .dataframe tbody tr th {\n",
       "        vertical-align: top;\n",
       "    }\n",
       "\n",
       "    .dataframe thead th {\n",
       "        text-align: right;\n",
       "    }\n",
       "</style>\n",
       "<table border=\"1\" class=\"dataframe\">\n",
       "  <thead>\n",
       "    <tr style=\"text-align: right;\">\n",
       "      <th></th>\n",
       "      <th>Cleaned_Tweet</th>\n",
       "    </tr>\n",
       "  </thead>\n",
       "  <tbody>\n",
       "    <tr>\n",
       "      <th>0</th>\n",
       "      <td>rt definitely man ai project blend artificial ...</td>\n",
       "    </tr>\n",
       "    <tr>\n",
       "      <th>1</th>\n",
       "      <td>rt eu become first continent set regulation ai...</td>\n",
       "    </tr>\n",
       "    <tr>\n",
       "      <th>3</th>\n",
       "      <td>artificial intelligence hot technology combine...</td>\n",
       "    </tr>\n",
       "    <tr>\n",
       "      <th>4</th>\n",
       "      <td>rt hi yusaku man ai project blend artificial</td>\n",
       "    </tr>\n",
       "    <tr>\n",
       "      <th>5</th>\n",
       "      <td>rt artificial intelligence meanwhile floridian</td>\n",
       "    </tr>\n",
       "  </tbody>\n",
       "</table>\n",
       "</div>"
      ],
      "text/plain": [
       "                                       Cleaned_Tweet\n",
       "0  rt definitely man ai project blend artificial ...\n",
       "1  rt eu become first continent set regulation ai...\n",
       "3  artificial intelligence hot technology combine...\n",
       "4       rt hi yusaku man ai project blend artificial\n",
       "5     rt artificial intelligence meanwhile floridian"
      ]
     },
     "execution_count": 9,
     "metadata": {},
     "output_type": "execute_result"
    }
   ],
   "source": [
    "# query words\n",
    "query_words = ['Artificial Intelligence', 'ai']\n",
    "\n",
    "# Create a boolean mask\n",
    "mask = tweets_df['Cleaned_Tweet'].str.contains('|'.join(query_words), case=False, na=False)\n",
    "\n",
    "# Filter the DataFrame\n",
    "filtered_tweets_df = tweets_df[mask]\n",
    "\n",
    "# Display the filtered DataFrame\n",
    "filtered_tweets_df.head()"
   ]
  },
  {
   "cell_type": "markdown",
   "id": "8bf97e00",
   "metadata": {},
   "source": [
    "## 3. Sentiment Analysis\n",
    "Sentiment Detection Tool: Use pre-built libraries like TextBlob.\n",
    "Classification: Classify the sentiment of each piece of text as positive, negative, or neutral."
   ]
  },
  {
   "cell_type": "code",
   "execution_count": 10,
   "id": "e6840c22",
   "metadata": {},
   "outputs": [
    {
     "data": {
      "text/html": [
       "<div>\n",
       "<style scoped>\n",
       "    .dataframe tbody tr th:only-of-type {\n",
       "        vertical-align: middle;\n",
       "    }\n",
       "\n",
       "    .dataframe tbody tr th {\n",
       "        vertical-align: top;\n",
       "    }\n",
       "\n",
       "    .dataframe thead th {\n",
       "        text-align: right;\n",
       "    }\n",
       "</style>\n",
       "<table border=\"1\" class=\"dataframe\">\n",
       "  <thead>\n",
       "    <tr style=\"text-align: right;\">\n",
       "      <th></th>\n",
       "      <th>Cleaned_Tweet</th>\n",
       "      <th>Sentiment</th>\n",
       "      <th>Polarity</th>\n",
       "    </tr>\n",
       "  </thead>\n",
       "  <tbody>\n",
       "    <tr>\n",
       "      <th>0</th>\n",
       "      <td>rt definitely man ai project blend artificial ...</td>\n",
       "      <td>negative</td>\n",
       "      <td>-0.300000</td>\n",
       "    </tr>\n",
       "    <tr>\n",
       "      <th>1</th>\n",
       "      <td>rt eu become first continent set regulation ai...</td>\n",
       "      <td>negative</td>\n",
       "      <td>-0.071212</td>\n",
       "    </tr>\n",
       "    <tr>\n",
       "      <th>2</th>\n",
       "      <td>rt security guard robot represent cuttingedge ...</td>\n",
       "      <td>positive</td>\n",
       "      <td>0.160000</td>\n",
       "    </tr>\n",
       "    <tr>\n",
       "      <th>3</th>\n",
       "      <td>artificial intelligence hot technology combine...</td>\n",
       "      <td>negative</td>\n",
       "      <td>-0.112500</td>\n",
       "    </tr>\n",
       "    <tr>\n",
       "      <th>4</th>\n",
       "      <td>rt hi yusaku man ai project blend artificial</td>\n",
       "      <td>negative</td>\n",
       "      <td>-0.600000</td>\n",
       "    </tr>\n",
       "  </tbody>\n",
       "</table>\n",
       "</div>"
      ],
      "text/plain": [
       "                                       Cleaned_Tweet Sentiment  Polarity\n",
       "0  rt definitely man ai project blend artificial ...  negative -0.300000\n",
       "1  rt eu become first continent set regulation ai...  negative -0.071212\n",
       "2  rt security guard robot represent cuttingedge ...  positive  0.160000\n",
       "3  artificial intelligence hot technology combine...  negative -0.112500\n",
       "4       rt hi yusaku man ai project blend artificial  negative -0.600000"
      ]
     },
     "execution_count": 10,
     "metadata": {},
     "output_type": "execute_result"
    }
   ],
   "source": [
    "# Function to apply sentiment analysis\n",
    "def analyze_sentiment(tweet):\n",
    "    analysis = TextBlob(tweet)\n",
    "    polarity = analysis.sentiment.polarity\n",
    "    if polarity > 0:\n",
    "        return 'positive', polarity\n",
    "    elif polarity == 0:\n",
    "        return 'neutral', polarity\n",
    "    else:\n",
    "        return 'negative', polarity\n",
    "\n",
    "# Apply the function to each tweet\n",
    "tweets_df['Sentiment'], tweets_df['Polarity'] = zip(*tweets_df['Cleaned_Tweet'].apply(analyze_sentiment))\n",
    "\n",
    "# Display the first few rows of the DataFrame with sentiment data\n",
    "tweets_df.head()"
   ]
  },
  {
   "cell_type": "markdown",
   "id": "cd6e7d97",
   "metadata": {},
   "source": [
    "## 4. Time Series Analysis\n",
    "Aggregation: Aggregate sentiment scores over time (daily, weekly).\n",
    "Trends Analysis: Use time series analysis techniques to identify trends. Libraries like Pandas and statsmodels can be helpful.\n"
   ]
  },
  {
   "cell_type": "markdown",
   "id": "240598ce",
   "metadata": {},
   "source": [
    "## 5. Forecasting\n",
    "Model Selection: Choose a forecasting model like ARIMA, SARIMA, or LSTM (for deep learning approaches).\n",
    "Prediction: Use the model to predict future trends in sentiment and discussion volume.\n"
   ]
  },
  {
   "cell_type": "markdown",
   "id": "803236e5",
   "metadata": {},
   "source": [
    "## 6. Visualization\n",
    "Tools: Use libraries like Matplotlib or Plotly to visualize trends and forecasts.\n",
    "Dashboard: Consider building a dashboard using Dash or Streamlit for real-time analysis and visualization.\n"
   ]
  },
  {
   "cell_type": "markdown",
   "id": "2a29acf1",
   "metadata": {},
   "source": [
    "## 7. Continuous Improvement and Updating\n",
    "Feedback Loop: Incorporate new data regularly to update the models.\n",
    "Model Tuning: Continuously evaluate and tune the models for better accuracy.\n"
   ]
  },
  {
   "cell_type": "markdown",
   "id": "98c740fe",
   "metadata": {},
   "source": [
    "## 8. Deployment\n",
    "Web Application: Deploy as a web application using frameworks like Flask or Django.\n",
    "APIs: Create APIs for accessing the analysis and forecasts."
   ]
  }
 ],
 "metadata": {
  "kernelspec": {
   "display_name": "Python 3 (ipykernel)",
   "language": "python",
   "name": "python3"
  },
  "language_info": {
   "codemirror_mode": {
    "name": "ipython",
    "version": 3
   },
   "file_extension": ".py",
   "mimetype": "text/x-python",
   "name": "python",
   "nbconvert_exporter": "python",
   "pygments_lexer": "ipython3",
   "version": "3.11.4"
  }
 },
 "nbformat": 4,
 "nbformat_minor": 5
}
